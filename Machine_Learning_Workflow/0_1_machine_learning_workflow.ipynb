{
  "cells": [
    {
      "cell_type": "markdown",
      "metadata": {
        "id": "VMPKBKZTTxXC"
      },
      "source": [
        "# An Introduction to the Machine Learning Workflow with Linear Regression\n",
        "\n",
        "Author: Julie Butler\n",
        "\n",
        "Date Created: October 4, 2022\n",
        "\n",
        "Last Modified: November 7, 2022\n",
        "\n",
        "Notebook 1/5 of the DSECOP Module: An Introduction to the Machine Learning Workflow with Linear Regression.  See the entire module [here]()."
      ]
    },
    {
      "cell_type": "markdown",
      "metadata": {
        "id": "nzWczsm2UJ97"
      },
      "source": [
        "## What is Machine Learning?\n",
        "\n",
        "Machine learning is the field that occurs when artificial intelligence is applied to data science; it is using computer algorithms that learn to draw knowledge from data sets.  To use another definition, machine learning is a set of algorithms which learn to perform a task by considering examples of what is to be done, but without being given explicit instructions.  Machine learning algortihms learn what to do by finding patterns in the data that are correlated to the problem to be solved.\n",
        "\n",
        "Machine learning algorithms can be split up in two ways, either based on the type of problem or the type of data set.  The first way to classify machine learning algorithms is based on the problem type.  If we are trying to classify data into a set number of categories, then the machine learning algorithm is performing _classification_.  If instead we are training the algorithm on a data set where the output could be any number then these machine learning algorithms are performing _regression_.\n",
        "\n",
        "The other way to classify machine learning algorithms is by the type of data.  If the data set has both an x and a y component, then a _supervised_ machine learning algorithm will learn how to connnect each y value with its corresponding x value.  We call data sets that have x and y components _labelled_ data.  If instead we were only given the y component of a data set, i.e. _unlabelled_ data, then _unsupervised_ machine learning algorithms attempt to determine patterns without knowing the x components.  There is a third category of machine learning algorithms called _reinforcement_ learning which is popular in fields such as robotics.\n",
        "\n",
        "There are many great resources on machine learning, but a few for further investigation are listed below.\n",
        "* [_Hands-On Machine Learning with Scikit-Learn, Keras, and TensorFlow, 2nd Edition_](https://www.oreilly.com/library/view/hands-on-machine-learning/9781492032632/) by Aurélien Géron\n",
        "* [Scikit-Learn's User Guide](https://scikit-learn.org/stable/user_guide.html)\n",
        "* [Machine Learning Mastery](https://machinelearningmastery.com) by Jason Brownlee\n",
        "* [A.I. Wiki](https://wiki.pathmind.com)"
      ]
    },
    {
      "cell_type": "markdown",
      "metadata": {
        "id": "_AS5WtZGULio"
      },
      "source": [
        "## Linear Regression: A Simple Machine Learning Algorithm\n",
        "\n",
        "Linear regression is one of the most basic machine learning algorithms, but it still contains all of the basic ingredients present in more complicated machine learning algorithms such as neural networks. Because of this many machine learning courses and books start off with a study of linear regression.\n",
        "\n",
        "Linear regression also has a few other benefits such as analytical expressions for its weights (described in a few cells) and it has a direct link to statistics as many statistics classes also cover linear regression.  Many machine learning packages, such as Scikit-Learn, provide easy to use implementations of linear regression but it is also not difficult to implement linear regression from scratch (the bonus problem of this notebook).\n",
        "\n",
        "However, due to the algorithms simplicity, many machine learning practicioners overlook it in favor of more complicated (and popular) machine learning algorithms.  However, we will see that linear regression can be a very powerful too, especially with a few modifications."
      ]
    },
    {
      "cell_type": "markdown",
      "metadata": {
        "id": "x-xI_KMUV71Y"
      },
      "source": [
        "### The Linear Regression Algorithm\n",
        "\n",
        "Given a data set (**X**, **y**), the linear regression algorithm makes the simple assumption that the data set it is trying to model, y, can be approximated by multiplying the input/dependent data, X, by a set of weights, $\\theta$:\n",
        "\n",
        "<br>\n",
        "\n",
        "$$\\hat{y}_{Linear} = X\\theta,$$\n",
        "\n",
        "\n",
        "<br>\n",
        "\n",
        "where $\\hat{y}$ is the output of the linear regression algorithm ($\\hat{y}$ is typically used to denote a machine learning prediction, regardless of the algorithm).  X can either be a vector or a matrix depending on how many features are needed and $\\theta$ is either a scalar (if X is a vector) or a vector (if X is a matrix).\n",
        "\n",
        "The machine learning part of linear regression comes when the value of $\\theta$ is found such that the predicted data points ($\\hat{y}$) are as close as possible to the known data points (y)."
      ]
    },
    {
      "cell_type": "markdown",
      "metadata": {
        "id": "J19Cid9PV_XT"
      },
      "source": [
        "### Linear Regression Loss Function\n",
        "\n",
        "In machine learning, a loss function measures the error in the algorithm's prediction from the true data. The loss function for the linear regressison algorithm is the mean-squared error function (y = y$_{True}$ and $\\hat{y}$ = $\\hat{y}_{Linear}$): \n",
        "\n",
        "$$J(\\theta) = \\frac{1}{n}\\sum_{i=0}^{n-1} (\\hat{y}_i - y_i)^2$$\n",
        "\n",
        "The goal of the linear regression algorithm is to find values of $\\theta$ which minimize the loss function (meaning that the predicted and true results will be as soon as possible).\n",
        "We can find the best values of $\\theta$ using a simple optimization:\n",
        "\n",
        "$$\\frac{\\partial J(\\theta}{\\partial \\theta} = 0.$$\n",
        "\n",
        "If we rewrite the loss function in terms of matrices and vectors:\n",
        "\n",
        "$$J(\\theta) = \\frac{1}{n}[(y-X\\theta)(y-X\\theta)],$$\n",
        "\n",
        "then we can solve the optimization probelm for $\\theta$, yielding:\n",
        "\n",
        "$$\\theta = (X^TX)^{-1}X^Ty.$$\n",
        "\n",
        "\n",
        "\n"
      ]
    },
    {
      "cell_type": "markdown",
      "metadata": {
        "id": "V5ILqA6HPwz4"
      },
      "source": [
        "### Uses of Linear Regression\n",
        "\n",
        "Though linear regression is considered a simple machine learning model, we will see by the end of this notebook that some minor modifications can greatly extend the range of problems linear regression can be applied to."
      ]
    },
    {
      "cell_type": "markdown",
      "metadata": {
        "id": "0qUfjH5UUQUs"
      },
      "source": [
        "## The Machine Learning Workflow\n",
        "\n",
        "Though every machine learning problem will use a different algorithm and data set, the analysis shares the same five steps:\n",
        "\n",
        "1. Importing your data set and formatting it\n",
        "2. Splitting the data into a training set and a test set\n",
        "3. Training your machine learning model with the training set\n",
        "4. Evaluate the trained model's performance with the test set\n",
        "5. (Optional) Make improvements to your model to increase its performance\n",
        "\n",
        "For the remainder of this notebook we will see how these steps can be combined with linear regression to create a machine learning workflow that can be transferred to much more complicated problems."
      ]
    },
    {
      "cell_type": "markdown",
      "metadata": {
        "id": "Exc7Xken5W9r"
      },
      "source": [
        "## Applying the Machine Learning Workflow to Linear Regression\n",
        "\n",
        "Before we begin we need to import the various libraries and packages that will be needed.  These include NumPy, Matplotlib, Pandas, and Scikit-Learn.  If you are using Google Colab to run these notebooks all of these package are already installed.  If you are using Jupyter notebooks on your own computer, check to make sure you have these packages installed before running this cell."
      ]
    },
    {
      "cell_type": "code",
      "execution_count": 2,
      "metadata": {
        "id": "kFnV_ICaUogp"
      },
      "outputs": [],
      "source": [
        "##############################\n",
        "##          IMPORTS         ##\n",
        "##############################\n",
        "# Needed for arrays and mathematical functions\n",
        "import numpy as np\n",
        "# For plotting\n",
        "import matplotlib.pyplot as plt\n",
        "# For importing and formatting data sets\n",
        "import pandas as pd\n",
        "# For the machine learning section, their functions will be \n",
        "# explained later in the notebook\n",
        "from sklearn.model_selection import train_test_split\n",
        "from sklearn.linear_model import LinearRegression"
      ]
    },
    {
      "cell_type": "markdown",
      "metadata": {
        "id": "Q47-1TBiZq1w"
      },
      "source": [
        "Next, if you are running this notebook on Google Colab we need to set things up so that the data files on your Drive can be accessed.  If you are running this notebook using Jupyter notebooks, skip running this cell."
      ]
    },
    {
      "cell_type": "code",
      "execution_count": null,
      "metadata": {
        "colab": {
          "base_uri": "https://localhost:8080/"
        },
        "id": "zze9aOVIbZHT",
        "outputId": "1bdb6653-5ac1-4266-edea-849fa281d4ac"
      },
      "outputs": [
        {
          "name": "stdout",
          "output_type": "stream",
          "text": [
            "Mounted at /content/gdrive\n"
          ]
        }
      ],
      "source": [
        "# GOOGLE DRIVE SET UP\n",
        "#from google.colab import drive\n",
        "# Mount my Google Drive\n",
        "#drive.mount('/content/gdrive')"
      ]
    },
    {
      "cell_type": "code",
      "execution_count": 3,
      "metadata": {
        "id": "dK3AQU2Kdkb8"
      },
      "outputs": [],
      "source": [
        "# Directory to retrieve data files from (###CHANGE THIS###)\n",
        "data_dir = './data'"
      ]
    },
    {
      "cell_type": "markdown",
      "metadata": {
        "id": "nK3LC4drLbgf"
      },
      "source": [
        "Now, we need set a file path so the notebook knows where to save and read data from.  This will be the file path where the notebooks from this module are stored.\n",
        "\n",
        "### IMPORTANT!\n",
        "\n",
        "**PROBLEM 1:** Change the below line of code to reflect where you have this files for this module stored on your Google Drive or on your computer.  It is important that you start from the very top folder and work your way down the the folder where these files are stored."
      ]
    },
    {
      "cell_type": "code",
      "execution_count": null,
      "metadata": {
        "id": "hc-lpRgIbMPM"
      },
      "outputs": [],
      "source": [
        "# Directory to retrieve data files from (###CHANGE THIS###)\n",
        "data_dir = './data'"
      ]
    },
    {
      "cell_type": "markdown",
      "metadata": {
        "id": "cb8waaduxifq"
      },
      "source": [
        "Let's generate data from a polynomial but with random noise added.  We do this to simulate a more realistic data set as in experiments there are often factors which influence the data and add noise that cannot be eliminated.\n",
        "\n",
        "The noise is added to the data set by adding a random integer between -10 and 10 to each y value of the data set.  Since the average value of the y data set before the noise is added is 94.8 and the maximum y value is 328.62, adding this noise does not change the shape of the data set drastically.  Later in the notebook you will explore how varying the amount of noise effects the machine learning model."
      ]
    },
    {
      "cell_type": "code",
      "execution_count": 4,
      "metadata": {
        "id": "25GxwZ9RUGBh"
      },
      "outputs": [],
      "source": [
        "# Generate a range of x values and the corresponding y values\n",
        "# for a polynomial data set\n",
        "x = np.arange(-10,10,0.1)\n",
        "y = 3*x**2 + 4*x - 5\n",
        "\n",
        "# Add noise to the data set by adding a random integer to each\n",
        "# y value. The random integers will be between -10 and 10.\n",
        "noise = 10\n",
        "y = y + np.random.randint(-1*noise,noise,len(y))"
      ]
    },
    {
      "cell_type": "markdown",
      "metadata": {
        "id": "NHCYxyOyyusD"
      },
      "source": [
        "Let's plot the data set to see how it looks.  Note we add labels to the x and y axes.  In the sciences it is important to always label the axes with the name of the data and units in applicable."
      ]
    },
    {
      "cell_type": "code",
      "execution_count": 5,
      "metadata": {
        "colab": {
          "base_uri": "https://localhost:8080/",
          "height": 296
        },
        "id": "CctEkm6fYRLE",
        "outputId": "b8e61035-a2ea-497c-d22a-a440d6df52a7"
      },
      "outputs": [
        {
          "data": {
            "text/plain": [
              "Text(0, 0.5, 'y')"
            ]
          },
          "execution_count": 5,
          "metadata": {},
          "output_type": "execute_result"
        },
        {
          "data": {
            "image/png": "[encoded data removed]",
            "text/plain": [
              "<Figure size 640x480 with 1 Axes>"
            ]
          },
          "metadata": {},
          "output_type": "display_data"
        }
      ],
      "source": [
        "# Plot the data set and label the x and y axes\n",
        "plt.scatter(x,y, color=\"blue\", s=50)\n",
        "plt.xlabel(\"x\")\n",
        "plt.ylabel(\"y\")"
      ]
    },
    {
      "cell_type": "markdown",
      "metadata": {
        "id": "HbOeIwBqxAcj"
      },
      "source": [
        "Finally, we format the data into columns of an array and save it as a comma separated file (.csv) with headings for each column."
      ]
    },
    {
      "cell_type": "code",
      "execution_count": 6,
      "metadata": {
        "id": "KdMDo4rxaB_O"
      },
      "outputs": [],
      "source": [
        "# Make an NumPy array where each row corresponds to one (x,y) point in the data set\n",
        "data_notebook_1 = np.array([x,y]).T\n",
        "\n",
        "# Save the data set as a .csv file, add header labels to the two columns\n",
        "pd.DataFrame(data_notebook_1).to_csv(data_dir+\"data_notebook_1.csv\", header=['x','y'],\\\n",
        "                                     index=False)"
      ]
    },
    {
      "cell_type": "markdown",
      "metadata": {
        "id": "g2dg0sQOUSTn"
      },
      "source": [
        "### Importing and Formatting Data with Pandas\n",
        "\n",
        "For many machine learning problems you will be working with a data set that has been gathered or generated previously and has been stored in a file.  A common way to import saved data into a Python program is using a library called Pandas.  When you import data from a file using Pandas it enters the program in a structure called a Pandas dataframe.  Dataframes have many nice feature for displaying and accessing data.\n",
        "\n",
        "Let's use the Pandas function `read_csv` to import the data set we created above as a data frame.  Then let's print the first few lines of the dataframe as a table to make sure everything has imported correctly."
      ]
    },
    {
      "cell_type": "code",
      "execution_count": 7,
      "metadata": {
        "colab": {
          "base_uri": "https://localhost:8080/",
          "height": 268
        },
        "id": "RAbsKPOkb8FE",
        "outputId": "1b20f900-19e8-4719-fd8c-d179d846e26e"
      },
      "outputs": [
        {
          "data": {
            "text/html": [
              "<div>\n",
              "<style scoped>\n",
              "    .dataframe tbody tr th:only-of-type {\n",
              "        vertical-align: middle;\n",
              "    }\n",
              "\n",
              "    .dataframe tbody tr th {\n",
              "        vertical-align: top;\n",
              "    }\n",
              "\n",
              "    .dataframe thead th {\n",
              "        text-align: right;\n",
              "    }\n",
              "</style>\n",
              "<table border=\"1\" class=\"dataframe\">\n",
              "  <thead>\n",
              "    <tr style=\"text-align: right;\">\n",
              "      <th></th>\n",
              "      <th>x</th>\n",
              "      <th>y</th>\n",
              "    </tr>\n",
              "  </thead>\n",
              "  <tbody>\n",
              "    <tr>\n",
              "      <th>0</th>\n",
              "      <td>-10.0</td>\n",
              "      <td>262.00</td>\n",
              "    </tr>\n",
              "    <tr>\n",
              "      <th>1</th>\n",
              "      <td>-9.9</td>\n",
              "      <td>245.43</td>\n",
              "    </tr>\n",
              "    <tr>\n",
              "      <th>2</th>\n",
              "      <td>-9.8</td>\n",
              "      <td>239.92</td>\n",
              "    </tr>\n",
              "    <tr>\n",
              "      <th>3</th>\n",
              "      <td>-9.7</td>\n",
              "      <td>246.47</td>\n",
              "    </tr>\n",
              "    <tr>\n",
              "      <th>4</th>\n",
              "      <td>-9.6</td>\n",
              "      <td>240.08</td>\n",
              "    </tr>\n",
              "  </tbody>\n",
              "</table>\n",
              "</div>"
            ],
            "text/plain": [
              "      x       y\n",
              "0 -10.0  262.00\n",
              "1  -9.9  245.43\n",
              "2  -9.8  239.92\n",
              "3  -9.7  246.47\n",
              "4  -9.6  240.08"
            ]
          },
          "execution_count": 7,
          "metadata": {},
          "output_type": "execute_result"
        }
      ],
      "source": [
        "# Import the data set using Pandas.  The data set will now be formatted as a Pandas\n",
        "# dataframe\n",
        "data_set = pd.read_csv(data_dir+\"data_notebook_1.csv\",header=0)\n",
        "\n",
        "# Print the first few rows of the dataframe\n",
        "data_set.head()"
      ]
    },
    {
      "cell_type": "markdown",
      "metadata": {
        "id": "dbq9ipulTljv"
      },
      "source": [
        "Using a Pandas dataframe makes it very easy to access the individual columns. A Pandas dataframe works like a Python dictionary, with the names of each column being the keys of the dictionary.  The entry for each key is the column of data the label corresponds to.  For example, we can access the data in the first column, x, using the following code."
      ]
    },
    {
      "cell_type": "code",
      "execution_count": 8,
      "metadata": {
        "colab": {
          "base_uri": "https://localhost:8080/"
        },
        "id": "VhxUGsfLmO2c",
        "outputId": "5fb8dfc2-18da-44ce-942d-ec31a24a3751"
      },
      "outputs": [
        {
          "data": {
            "text/plain": [
              "0     -10.0\n",
              "1      -9.9\n",
              "2      -9.8\n",
              "3      -9.7\n",
              "4      -9.6\n",
              "       ... \n",
              "195     9.5\n",
              "196     9.6\n",
              "197     9.7\n",
              "198     9.8\n",
              "199     9.9\n",
              "Name: x, Length: 200, dtype: float64"
            ]
          },
          "execution_count": 8,
          "metadata": {},
          "output_type": "execute_result"
        }
      ],
      "source": [
        "# Print the column of the dataframe that corresponds to the column label 'x'\n",
        "data_set['x']"
      ]
    },
    {
      "cell_type": "markdown",
      "metadata": {
        "id": "r7xJKhzRT5tR"
      },
      "source": [
        "It is also possible to extract individual data points from a column using array indexing.  The first data point in the x data set can be accessed using the below code."
      ]
    },
    {
      "cell_type": "code",
      "execution_count": 9,
      "metadata": {
        "colab": {
          "base_uri": "https://localhost:8080/"
        },
        "id": "3kPWQc5mmRu_",
        "outputId": "61369765-ca8a-4c66-b2ad-88d6f4c38319"
      },
      "outputs": [
        {
          "data": {
            "text/plain": [
              "-10.0"
            ]
          },
          "execution_count": 9,
          "metadata": {},
          "output_type": "execute_result"
        }
      ],
      "source": [
        "# Extract the first point in the x data set\n",
        "data_set['x'][0]"
      ]
    },
    {
      "cell_type": "markdown",
      "metadata": {
        "id": "3osB8-eaUCqG"
      },
      "source": [
        "**PROBLEM 2:** In the below code cell, print the y column of the data set.  On the next line print the 10th element of the y data set (remember that array indexing starts from 0)."
      ]
    },
    {
      "cell_type": "code",
      "execution_count": 10,
      "metadata": {
        "id": "4w8lCbt7UC7Z"
      },
      "outputs": [
        {
          "data": {
            "text/plain": [
              "0      262.00\n",
              "1      245.43\n",
              "2      239.92\n",
              "3      246.47\n",
              "4      240.08\n",
              "        ...  \n",
              "195    301.75\n",
              "196    306.88\n",
              "197    325.07\n",
              "198    312.32\n",
              "199    336.63\n",
              "Name: y, Length: 200, dtype: float64"
            ]
          },
          "execution_count": 10,
          "metadata": {},
          "output_type": "execute_result"
        }
      ],
      "source": [
        "data_set['y']"
      ]
    },
    {
      "cell_type": "code",
      "execution_count": 11,
      "metadata": {},
      "outputs": [
        {
          "data": {
            "text/plain": [
              "211.03000000000017"
            ]
          },
          "execution_count": 11,
          "metadata": {},
          "output_type": "execute_result"
        }
      ],
      "source": [
        "data_set['y'][9]"
      ]
    },
    {
      "cell_type": "markdown",
      "metadata": {
        "id": "9hZhj5NB1RZE"
      },
      "source": [
        "Though Pandas dataframes are convinient for displaying data, many machine learning packges require the data set to be split into two separate NumPy arrays, one for the x component of the data set and one for the y component of the data set.  Luckily, there is a NumPy function called `asarray` which will convert the columns of the dataframe into NumPy arrays."
      ]
    },
    {
      "cell_type": "code",
      "execution_count": 12,
      "metadata": {
        "id": "ydtnJBTmmYMT"
      },
      "outputs": [],
      "source": [
        "# Convert the columns of the Pandas dataframe to NumPy arrays to more\n",
        "# easily manipulate the data\n",
        "X = np.asarray(data_set['x'])\n",
        "y = np.asarray(data_set['y'])"
      ]
    },
    {
      "cell_type": "markdown",
      "metadata": {
        "id": "nObNKokxUams"
      },
      "source": [
        "### Training and Test Data Sets with Scikit-Learn\n",
        "\n",
        "The most common way to perform a training/test split is to use the function form the Scikit-Learn library called `training_test_split`.  In general this function takes three arguments: the x component of the dat set, the y component of the data set, and a number between 0.0 and 1.0 called `test_size`.  This number dictates the fraction of the data set which is to be used as the test set.  In this case, 20% of the overall data set will be devoted to the test set.  The `training_test_split` randomly splits the data between the training and test sets.\n",
        "\n",
        "The function returns 4 data sets as NumPy arrays, in order: the x component of the training set, the x component of the test set, the y component of the training set, and the y component of the test set.\n",
        "\n",
        "Below we will use `train_test_split` to create our training and test data sets."
      ]
    },
    {
      "cell_type": "code",
      "execution_count": 16,
      "metadata": {
        "id": "dlTb_MQZm6Q2"
      },
      "outputs": [],
      "source": [
        "# Using the Scikit-Learn package, split the data set into a training set and a\n",
        "# test set\n",
        "X_train, X_test, y_train, y_test = train_test_split(X, y, test_size=0.2)"
      ]
    },
    {
      "cell_type": "markdown",
      "metadata": {
        "id": "Y_-eUIee9BXc"
      },
      "source": [
        "Let's graph the training and test data sets on the same graph to see if the training data set seems like it will be a good representation of the test data set."
      ]
    },
    {
      "cell_type": "code",
      "execution_count": 17,
      "metadata": {
        "colab": {
          "base_uri": "https://localhost:8080/",
          "height": 296
        },
        "id": "PsXwRUA-nED1",
        "outputId": "fce7fb87-94f0-410e-aee6-0856ebec6466"
      },
      "outputs": [
        {
          "data": {
            "text/plain": [
              "Text(0, 0.5, 'y')"
            ]
          },
          "execution_count": 17,
          "metadata": {},
          "output_type": "execute_result"
        },
        {
          "data": {
            "image/png": "[encoded data removed]",
            "text/plain": [
              "<Figure size 640x480 with 1 Axes>"
            ]
          },
          "metadata": {},
          "output_type": "display_data"
        }
      ],
      "source": [
        "# Plot the training data and the test data on the same plot\n",
        "plt.scatter(X_train, y_train, color='blue', s=50, label=\"Training\")\n",
        "plt.scatter(X_test, y_test, color='red', marker='^',s=50, label=\"Test\")\n",
        "plt.legend()\n",
        "plt.xlabel('x')\n",
        "plt.ylabel('y')"
      ]
    },
    {
      "cell_type": "markdown",
      "metadata": {
        "id": "KxyRUDP6OpOH"
      },
      "source": [
        "**PROBLEM 3:** Does the test data set appear to be a good representation of the total data set?  Do you notice a difference if you run the `train_test_split` cell and the graphing cell again? Explain your answer in the text cell below."
      ]
    },
    {
      "attachments": {},
      "cell_type": "markdown",
      "metadata": {
        "id": "bZAEYR0vOpWz"
      },
      "source": [
        "The training data does appear to be a good representation of the actual data. The training data contains far more data points than the test data.\n",
        "\n",
        "I do not notice a difference if I run the `train_test_split` cell and the graphing cell again."
      ]
    },
    {
      "cell_type": "markdown",
      "metadata": {
        "id": "19il1YLXUfPi"
      },
      "source": [
        "### Linear Regression with Scikit-Learn\n",
        "\n",
        "First, we must reshape the x components of the training and test data sets.  Machine learning algorithms that are provided by Scikit-Learn (and other machine learning libraries like Keras) require the data to have specific shapes.  For an x data set which only has one dimension (i.e. one x value for each y value), it will need to reshaped like this:"
      ]
    },
    {
      "cell_type": "code",
      "execution_count": 18,
      "metadata": {
        "id": "DH0i1hmvnTQX"
      },
      "outputs": [],
      "source": [
        "# Reshape the x components of the data sets to meet Scikit-Learn's\n",
        "# specifications\n",
        "X_train = X_train.reshape(-1,1)\n",
        "X_test = X_test.reshape(-1,1)"
      ]
    },
    {
      "cell_type": "markdown",
      "metadata": {
        "id": "qRqefZZ9-3bf"
      },
      "source": [
        "The next is to define the linear regression algorithm using Scikit-Learn's package and then train the linear regression algorithm with the training data.  Scikit-Learn makes it very easy, only requiring two lines of code.  Here we have set the argument `fit_intercept` to False when defining the linear regression algorithm.  This will be explained later in the notebook."
      ]
    },
    {
      "cell_type": "code",
      "execution_count": 19,
      "metadata": {
        "colab": {
          "base_uri": "https://localhost:8080/"
        },
        "id": "EmybiVf6nLwB",
        "outputId": "a75a226b-e060-4676-af0e-3c4a6a5e16ce"
      },
      "outputs": [
        {
          "data": {
            "text/html": [
              "<style>#sk-container-id-1 {color: black;background-color: white;}#sk-container-id-1 pre{padding: 0;}#sk-container-id-1 div.sk-toggleable {background-color: white;}#sk-container-id-1 label.sk-toggleable__label {cursor: pointer;display: block;width: 100%;margin-bottom: 0;padding: 0.3em;box-sizing: border-box;text-align: center;}#sk-container-id-1 label.sk-toggleable__label-arrow:before {content: \"▸\";float: left;margin-right: 0.25em;color: #696969;}#sk-container-id-1 label.sk-toggleable__label-arrow:hover:before {color: black;}#sk-container-id-1 div.sk-estimator:hover label.sk-toggleable__label-arrow:before {color: black;}#sk-container-id-1 div.sk-toggleable__content {max-height: 0;max-width: 0;overflow: hidden;text-align: left;background-color: #f0f8ff;}#sk-container-id-1 div.sk-toggleable__content pre {margin: 0.2em;color: black;border-radius: 0.25em;background-color: #f0f8ff;}#sk-container-id-1 input.sk-toggleable__control:checked~div.sk-toggleable__content {max-height: 200px;max-width: 100%;overflow: auto;}#sk-container-id-1 input.sk-toggleable__control:checked~label.sk-toggleable__label-arrow:before {content: \"▾\";}#sk-container-id-1 div.sk-estimator input.sk-toggleable__control:checked~label.sk-toggleable__label {background-color: #d4ebff;}#sk-container-id-1 div.sk-label input.sk-toggleable__control:checked~label.sk-toggleable__label {background-color: #d4ebff;}#sk-container-id-1 input.sk-hidden--visually {border: 0;clip: rect(1px 1px 1px 1px);clip: rect(1px, 1px, 1px, 1px);height: 1px;margin: -1px;overflow: hidden;padding: 0;position: absolute;width: 1px;}#sk-container-id-1 div.sk-estimator {font-family: monospace;background-color: #f0f8ff;border: 1px dotted black;border-radius: 0.25em;box-sizing: border-box;margin-bottom: 0.5em;}#sk-container-id-1 div.sk-estimator:hover {background-color: #d4ebff;}#sk-container-id-1 div.sk-parallel-item::after {content: \"\";width: 100%;border-bottom: 1px solid gray;flex-grow: 1;}#sk-container-id-1 div.sk-label:hover label.sk-toggleable__label {background-color: #d4ebff;}#sk-container-id-1 div.sk-serial::before {content: \"\";position: absolute;border-left: 1px solid gray;box-sizing: border-box;top: 0;bottom: 0;left: 50%;z-index: 0;}#sk-container-id-1 div.sk-serial {display: flex;flex-direction: column;align-items: center;background-color: white;padding-right: 0.2em;padding-left: 0.2em;position: relative;}#sk-container-id-1 div.sk-item {position: relative;z-index: 1;}#sk-container-id-1 div.sk-parallel {display: flex;align-items: stretch;justify-content: center;background-color: white;position: relative;}#sk-container-id-1 div.sk-item::before, #sk-container-id-1 div.sk-parallel-item::before {content: \"\";position: absolute;border-left: 1px solid gray;box-sizing: border-box;top: 0;bottom: 0;left: 50%;z-index: -1;}#sk-container-id-1 div.sk-parallel-item {display: flex;flex-direction: column;z-index: 1;position: relative;background-color: white;}#sk-container-id-1 div.sk-parallel-item:first-child::after {align-self: flex-end;width: 50%;}#sk-container-id-1 div.sk-parallel-item:last-child::after {align-self: flex-start;width: 50%;}#sk-container-id-1 div.sk-parallel-item:only-child::after {width: 0;}#sk-container-id-1 div.sk-dashed-wrapped {border: 1px dashed gray;margin: 0 0.4em 0.5em 0.4em;box-sizing: border-box;padding-bottom: 0.4em;background-color: white;}#sk-container-id-1 div.sk-label label {font-family: monospace;font-weight: bold;display: inline-block;line-height: 1.2em;}#sk-container-id-1 div.sk-label-container {text-align: center;}#sk-container-id-1 div.sk-container {/* jupyter's `normalize.less` sets `[hidden] { display: none; }` but bootstrap.min.css set `[hidden] { display: none !important; }` so we also need the `!important` here to be able to override the default hidden behavior on the sphinx rendered scikit-learn.org. See: https://github.com/scikit-learn/scikit-learn/issues/21755 */display: inline-block !important;position: relative;}#sk-container-id-1 div.sk-text-repr-fallback {display: none;}</style><div id=\"sk-container-id-1\" class=\"sk-top-container\"><div class=\"sk-text-repr-fallback\"><pre>LinearRegression(fit_intercept=False)</pre><b>In a Jupyter environment, please rerun this cell to show the HTML representation or trust the notebook. <br />On GitHub, the HTML representation is unable to render, please try loading this page with nbviewer.org.</b></div><div class=\"sk-container\" hidden><div class=\"sk-item\"><div class=\"sk-estimator sk-toggleable\"><input class=\"sk-toggleable__control sk-hidden--visually\" id=\"sk-estimator-id-1\" type=\"checkbox\" checked><label for=\"sk-estimator-id-1\" class=\"sk-toggleable__label sk-toggleable__label-arrow\">LinearRegression</label><div class=\"sk-toggleable__content\"><pre>LinearRegression(fit_intercept=False)</pre></div></div></div></div></div>"
            ],
            "text/plain": [
              "LinearRegression(fit_intercept=False)"
            ]
          },
          "execution_count": 19,
          "metadata": {},
          "output_type": "execute_result"
        }
      ],
      "source": [
        "# Define the linear regression algorithm and train it using the training data\n",
        "LiR = LinearRegression(fit_intercept=False)\n",
        "LiR.fit(X_train, y_train)"
      ]
    },
    {
      "cell_type": "markdown",
      "metadata": {
        "id": "3cnlWXSe_cve"
      },
      "source": [
        "Finally, we will used the train linear regression model to predict the y values that correspond to the x values in the test data set.  We will store the results in the NumPy array `y_pred` to be compared to `y_test` in the next section."
      ]
    },
    {
      "cell_type": "code",
      "execution_count": 20,
      "metadata": {
        "id": "wRvu2vXFnlCv"
      },
      "outputs": [],
      "source": [
        "# Used the trained algorithm to predict what y values correspond to the x component of\n",
        "# the test data set\n",
        "y_pred = LiR.predict(X_test)"
      ]
    },
    {
      "cell_type": "markdown",
      "metadata": {
        "id": "vt-ee_YCUib5"
      },
      "source": [
        "### Evaluating Model Performance with NumPy and Matplotlib\n",
        "\n",
        "After the test data set has been evaluated using the trained model, the next step in the machine learning workflow is to evaluate its performance.  We will do this by comparing the known y data points (stored in `y_test`) to the y data points that have been predicted by the trained linear regression algorithm (stored in `y_pred`).\n",
        "\n",
        "One common measure of error used in machine learning workflows is called the mean-squared error (MSE), which can be defined in equation form as:\n",
        "\n",
        "$$MSE(y_{test}, \\hat{y}_{pred}) = \\frac{1}{N}\\sum_{i=1}^N (y_{test,i} - \\hat{y}_{pred,i})^2,$$\n",
        "\n",
        "where N is the number of data points, $y_{test}$ are the known data points (stored in `y_test`), and $\\hat{y}_{pred}$ are the predicted data points (stored in `y_pred`).  Conceptually we can think if the MSE as the average error of each predicted data point, squared.\n",
        "\n",
        "In Python, we can make use of the library NumPy to create a function that calculates the MSE between two NumPy arrays.  This is shown below in the next code cell.\n",
        "\n",
        "**PROBLEM 4:** Go through the below code cell and make sure you understand how it related to the MSE equation given above.  Create new code cells below it to examine it performance if needed."
      ]
    },
    {
      "cell_type": "code",
      "execution_count": 21,
      "metadata": {
        "id": "hbWwqfcsnqKb"
      },
      "outputs": [],
      "source": [
        "##############################\n",
        "##            MSE           ##\n",
        "##############################\n",
        "def mse(A, B):\n",
        "    \"\"\"\n",
        "        Inputs:\n",
        "            A,B: NumPy arrays of the same length\n",
        "        Returns:\n",
        "            Unnamed: the mean-squared error between A and B\n",
        "        Calculates and returns the mean-squared error between the given Numpy arrays.\n",
        "        Note that A and B must be the same length.\n",
        "    \"\"\"\n",
        "    return np.average((A-B)**2)"
      ]
    },
    {
      "cell_type": "markdown",
      "metadata": {
        "id": "Pt-JTiyUAKL4"
      },
      "source": [
        "Let's print the MSE between the known data points, `y_test`, and the predicted data points, `y_pred`."
      ]
    },
    {
      "cell_type": "code",
      "execution_count": 22,
      "metadata": {
        "colab": {
          "base_uri": "https://localhost:8080/"
        },
        "id": "i33-xwZ7nv4X",
        "outputId": "764bbab1-fb72-4f40-c733-9fb027d6d5e1"
      },
      "outputs": [
        {
          "name": "stdout",
          "output_type": "stream",
          "text": [
            "The MSE between the test data set and the predicted data set is: 18020.11021165892\n"
          ]
        }
      ],
      "source": [
        "print(\"The MSE between the test data set and the predicted data set is:\",\\\n",
        "      mse(y_pred, y_test))"
      ]
    },
    {
      "cell_type": "markdown",
      "metadata": {
        "id": "JbXOjYnhAiOt"
      },
      "source": [
        "The smaller the MSE is the closer the known data set matches the predicted data set.  However, if the values in the data set are quite large then even comparatively small deviations in values can results in a large MSE error.  Sometimes an easier to understand metric is the root mean-squared error (RMSE), which is simply defined as the square root of the MSE:\n",
        "\n",
        "$$RMSE(y_{test}, \\hat{y}_{pred}) = \\sqrt{\\frac{1}{N}\\sum_{i=1}^N (y_{test,i} - \\hat{y}_{pred,i})^2}.$$\n",
        "\n",
        "Conceptually we can think of this metric as the average error each of the predicted data points has.\n",
        "\n",
        "We can print the RMSE for our machine learning algorithm simply by taking the square root of the MSE."
      ]
    },
    {
      "cell_type": "code",
      "execution_count": 23,
      "metadata": {
        "colab": {
          "base_uri": "https://localhost:8080/"
        },
        "id": "eg0-iO9rqMEr",
        "outputId": "189d7175-0a0c-45ef-a7e3-4fbabc2b1e5c"
      },
      "outputs": [
        {
          "name": "stdout",
          "output_type": "stream",
          "text": [
            "The RMSE between the test data set and the predicted data set is: 134.2390040623772\n"
          ]
        }
      ],
      "source": [
        "print(\"The RMSE between the test data set and the predicted data set is:\",\\\n",
        "      np.sqrt(mse(y_pred, y_test)))"
      ]
    },
    {
      "cell_type": "markdown",
      "metadata": {
        "id": "ihwMV1m5AjOR"
      },
      "source": [
        "This RMSE score is still quite large, especially if we compare it to the average value of the y data set."
      ]
    },
    {
      "cell_type": "code",
      "execution_count": 24,
      "metadata": {
        "colab": {
          "base_uri": "https://localhost:8080/"
        },
        "id": "qRvOAwVtT_jz",
        "outputId": "2c446bc5-7ca8-4bce-f2a3-c6dd8dff5aaf"
      },
      "outputs": [
        {
          "name": "stdout",
          "output_type": "stream",
          "text": [
            "The average value of the y data set is: 94.19999999999916\n"
          ]
        }
      ],
      "source": [
        "print(\"The average value of the y data set is:\", np.average(y))"
      ]
    },
    {
      "cell_type": "markdown",
      "metadata": {
        "id": "2VXukjIUaAPg"
      },
      "source": [
        "The exact error and average of the data set will change each time you run the notebook since the noise addition and train/test split are randomized, but you should see that the RMSE error is equivalent if not larger than the average value of the y data set.\n",
        "\n",
        "Finally, let's graph the known data set and the predicted data set on the same graph to see how they compare."
      ]
    },
    {
      "cell_type": "code",
      "execution_count": 25,
      "metadata": {
        "colab": {
          "base_uri": "https://localhost:8080/",
          "height": 296
        },
        "id": "C7dziyb0oz2o",
        "outputId": "dcf8470e-dfb3-4ebd-c308-127bc264b427"
      },
      "outputs": [
        {
          "data": {
            "text/plain": [
              "Text(0, 0.5, 'y')"
            ]
          },
          "execution_count": 25,
          "metadata": {},
          "output_type": "execute_result"
        },
        {
          "data": {
            "image/png": "[encoded data removed]",
            "text/plain": [
              "<Figure size 640x480 with 1 Axes>"
            ]
          },
          "metadata": {},
          "output_type": "display_data"
        }
      ],
      "source": [
        "# Plot the test data set and the predicted data set on the same graph\n",
        "plt.scatter(X_test, y_test, color=\"blue\", s=50, label=\"Test Data\")\n",
        "plt.scatter(X_test, y_pred, color='red', marker='^', s=50, label=\"Predicted Data\")\n",
        "plt.legend()\n",
        "plt.xlabel(\"x\")\n",
        "plt.ylabel(\"y\")"
      ]
    },
    {
      "cell_type": "markdown",
      "metadata": {
        "id": "vBfdusRgZaU8"
      },
      "source": [
        "**PROBLEM 5:** Does the model appear to be a good match for the data set? Do the predictions from the linear regression algorithm make since? How could the model be improved?  Explain your answer in the text cell below."
      ]
    },
    {
      "attachments": {},
      "cell_type": "markdown",
      "metadata": {
        "id": "eL4g_jJGZaeB"
      },
      "source": [
        "No, the model does not appear to be a good match for the data set. The predictions from the linear regression algorithm do not make sense. The model could be improved by using a different curve to fit the data - perhaps a quadratic curve."
      ]
    },
    {
      "cell_type": "markdown",
      "metadata": {
        "id": "7wHOGIMiYe9m"
      },
      "source": [
        "### Improve the Model's Performance: Design Matrices\n",
        "\n",
        "If we analyze a bit closer how the linear regression algorithm works, it should be unsurprising that it failed to fit a quadaratic data set.  If we take the form of the output for an unmodified linear regression algorithm:\n",
        "\n",
        "$$\\hat{y} =  X\\theta,$$\n",
        "\n",
        "and expand it, remembering that $\\hat{y}$ and X are vectors and $\\theta$ is a number, we get:\n",
        "\n",
        "$$y =  X\\theta \\longrightarrow \\begin{bmatrix}\n",
        "y_1 \\\\\n",
        "y_2 \\\\\n",
        "y_3 \\\\\n",
        ". \\\\\n",
        ". \\\\\n",
        ". \\\\\n",
        "y_N\n",
        "\\end{bmatrix} =  \\begin{bmatrix}\n",
        "x_1 \\\\\n",
        "x_2 \\\\\n",
        "x_3 \\\\\n",
        ". \\\\\n",
        ". \\\\\n",
        ". \\\\\n",
        "x_N \\\\\n",
        "\\end{bmatrix}\\theta \\longrightarrow \\begin{bmatrix}\n",
        "y_1 \\\\\n",
        "y_2 \\\\\n",
        "y_3 \\\\\n",
        ". \\\\\n",
        ". \\\\\n",
        ". \\\\\n",
        "y_N\n",
        "\\end{bmatrix} =  \\begin{bmatrix}\n",
        "\\theta x_1 \\\\\n",
        "\\theta x_2 \\\\\n",
        "\\theta x_3 \\\\\n",
        ". \\\\\n",
        ". \\\\\n",
        ". \\\\\n",
        "\\theta x_N \\\\\n",
        "\\end{bmatrix}.$$\n",
        "\n",
        "This means that without any modifications, the best model a linear regression algorithm can create is that the each output is just the corresponding input times a constant, $\\theta$ ($y_1 = \\theta x_1, y_2 = \\theta x_2, y_3 = \\theta x_3, ...$).  However there is an easy way to extend the amount of problems linear regression can be applied to by using some knowledge of the data set at hand and a structure called a _design matrix_.\n",
        "\n",
        "To create a design matrix we simply add more columns of X so that when we expand $\\hat{y} = \\theta X$, it better matches the form we expect our data to have.  Since we created our data set we know it is a quadratic and has the form $y = ax^2 + bx + c$, therefore let us consider the following way to restructure X.  Here we will make $\\theta$ a vector instead of a scalar and X will be a matrix instead of a vector:\n",
        "\n",
        "$$y =  X\\theta \\longrightarrow \\begin{bmatrix}\n",
        "y_1 \\\\\n",
        "y_2 \\\\\n",
        "y_3 \\\\\n",
        ". \\\\\n",
        ". \\\\\n",
        ". \\\\\n",
        "y_N\n",
        "\\end{bmatrix} =  \\begin{bmatrix}\n",
        "x_1^2 & x_1 & 1\\\\\n",
        "x_2^ 2 & x_2 & 1 \\\\\n",
        "x_3^2 & x_3 & 1 \\\\\n",
        ". \\\\\n",
        ". \\\\\n",
        ". \\\\\n",
        "x_N^2 & x_N & 1 \\\\\n",
        "\\end{bmatrix}\\begin{bmatrix}\n",
        "\\theta_1\n",
        "\\theta_2\n",
        "\\theta_3\n",
        "\\end{bmatrix} \\longrightarrow \\begin{bmatrix}\n",
        "y_1 \\\\\n",
        "y_2 \\\\\n",
        "y_3 \\\\\n",
        ". \\\\\n",
        ". \\\\\n",
        ". \\\\\n",
        "y_N\n",
        "\\end{bmatrix} = \\begin{bmatrix}\n",
        "\\theta_1 x_1^2 & \\theta_2 x_1 & \\theta_3\\\\\n",
        "\\theta_1 x_2^ 2 & \\theta_2 x_2 & \\theta_3 \\\\\n",
        "\\theta_1 x_3^2 & \\theta_2 x_3 & \\theta_3 \\\\\n",
        ". \\\\\n",
        ". \\\\\n",
        ". \\\\\n",
        "\\theta_1 x_N^2 & \\theta_2 x_N & \\theta_3 \\\\\n",
        "\\end{bmatrix}.$$\n",
        "\n",
        "\n",
        "Here each point in the y data set corresponds to a quaratic form of the x data set, which should match our data set.  If we did not have prior knowledge about what our data set was, we could always graph it and see if we could gleam any insights from its shape or use the [Vandermonde matrix](https://en.wikipedia.org/wiki/Vandermonde_matrix).\n",
        "\n",
        "Computationally we can construct the design matrix using the following code."
      ]
    },
    {
      "cell_type": "code",
      "execution_count": 26,
      "metadata": {
        "colab": {
          "base_uri": "https://localhost:8080/"
        },
        "id": "d7NxD3-xUZQX",
        "outputId": "b53e6a66-5890-488f-c89e-c4791168a835"
      },
      "outputs": [
        {
          "name": "stdout",
          "output_type": "stream",
          "text": [
            "[[100.   -10.     1.  ]\n",
            " [ 98.01  -9.9    1.  ]\n",
            " [ 96.04  -9.8    1.  ]\n",
            " [ 94.09  -9.7    1.  ]\n",
            " [ 92.16  -9.6    1.  ]\n",
            " [ 90.25  -9.5    1.  ]\n",
            " [ 88.36  -9.4    1.  ]\n",
            " [ 86.49  -9.3    1.  ]\n",
            " [ 84.64  -9.2    1.  ]\n",
            " [ 82.81  -9.1    1.  ]]\n"
          ]
        }
      ],
      "source": [
        "# Create an array that is the X comoponent of the data set squared and an array that is \n",
        "# just ones\n",
        "X_squared = X**2\n",
        "ones = np.ones(len(X))\n",
        "\n",
        "# Create an array such that each row is [x**2, x, 1], for each point in the x data set\n",
        "X_design_matrix = np.array([X_squared, X, ones]).T\n",
        "\n",
        "# Print the first 10 rows of this new X data set\n",
        "print(X_design_matrix[:10])"
      ]
    },
    {
      "cell_type": "markdown",
      "metadata": {
        "id": "mVwLDOEHHMgv"
      },
      "source": [
        "**PROBLEM 6:** Make sure the above code makes sense to you before moving on.  Print out different lines if you need to."
      ]
    },
    {
      "attachments": {},
      "cell_type": "markdown",
      "metadata": {
        "id": "02cfjiomHNNg"
      },
      "source": [
        "Okay."
      ]
    },
    {
      "cell_type": "code",
      "execution_count": 27,
      "metadata": {
        "id": "Opvv2HWvYTmR"
      },
      "outputs": [],
      "source": [
        "# Using the Scikit-Learn package, split the data set into a training set and a\n",
        "# test set\n",
        "X_train, X_test, y_train, y_test = train_test_split(X_design_matrix, y, test_size=0.2)"
      ]
    },
    {
      "cell_type": "markdown",
      "metadata": {
        "id": "jXoyVl_4coyB"
      },
      "source": [
        "Since this X data set is two dimensional (multiple x values per y value), there is no need to reshape the X components of the data sets before performing linear regression with Scikit-Learn.  Here we create our linear regression algorithm and train it with the training data.  We set `fit_intercept` to False because we have already included the intercept in our design matrix (the column of ones).  Let's also go ahead and predict the points that will be in our test set."
      ]
    },
    {
      "cell_type": "code",
      "execution_count": 28,
      "metadata": {
        "id": "PhI_qdQrpa65"
      },
      "outputs": [],
      "source": [
        "# Define the linear regression algorithm and train it using the training data\n",
        "# When using a design matrix, make sure the linear regression algorithm is not \n",
        "# automatically fitting the intercept of the graph\n",
        "LiR = LinearRegression(fit_intercept=False)\n",
        "LiR.fit(X_train, y_train)\n",
        "\n",
        "# Used the trained algorithm to predict what y values correspond to the x component of\n",
        "# the test data set\n",
        "y_pred = LiR.predict(X_test)"
      ]
    },
    {
      "cell_type": "markdown",
      "metadata": {
        "id": "w8NZR3NcazlM"
      },
      "source": [
        "Now we need to evaluate our model's performance using the test data set.  We will do this the same was as before, by calculating the MSE and RMSE and comparing those values to the average y values of the test data set.  We will also graph the known data points and the preducted data points on the same graph."
      ]
    },
    {
      "cell_type": "code",
      "execution_count": 29,
      "metadata": {
        "colab": {
          "base_uri": "https://localhost:8080/"
        },
        "id": "7IVt_uhPpdb-",
        "outputId": "9b0b69bd-7933-49a3-f6cc-1a10522192d1"
      },
      "outputs": [
        {
          "name": "stdout",
          "output_type": "stream",
          "text": [
            "The MSE between the test data set and the predicted data set is: 32.330855036559726\n"
          ]
        }
      ],
      "source": [
        "print(\"The MSE between the test data set and the predicted data set is:\",\\\n",
        "      mse(y_pred, y_test))"
      ]
    },
    {
      "cell_type": "code",
      "execution_count": 30,
      "metadata": {
        "colab": {
          "base_uri": "https://localhost:8080/"
        },
        "id": "nqp9IAnzqPi6",
        "outputId": "0d6e7e2d-d7ea-40f3-92d7-2db9972da16b"
      },
      "outputs": [
        {
          "name": "stdout",
          "output_type": "stream",
          "text": [
            "The RMSE between the test data set and the predicted data set is: 5.686022778406689\n"
          ]
        }
      ],
      "source": [
        "print(\"The RMSE between the test data set and the predicted data set is:\",\\\n",
        "      np.sqrt(mse(y_pred, y_test)))"
      ]
    },
    {
      "cell_type": "code",
      "execution_count": 31,
      "metadata": {
        "colab": {
          "base_uri": "https://localhost:8080/"
        },
        "id": "6Vx0mtC7T27C",
        "outputId": "b5df7099-15b3-4772-f049-d87c7f5a89b3"
      },
      "outputs": [
        {
          "name": "stdout",
          "output_type": "stream",
          "text": [
            "The average value of the y data set is: 94.19999999999916\n"
          ]
        }
      ],
      "source": [
        "print(\"The average value of the y data set is:\", np.average(y))"
      ]
    },
    {
      "cell_type": "code",
      "execution_count": 32,
      "metadata": {
        "colab": {
          "base_uri": "https://localhost:8080/",
          "height": 105
        },
        "id": "QgPnYwZWpiou",
        "outputId": "23c82005-3a78-46ce-a354-eac4495645c4"
      },
      "outputs": [
        {
          "data": {
            "text/plain": [
              "Text(0, 0.5, 'y')"
            ]
          },
          "execution_count": 32,
          "metadata": {},
          "output_type": "execute_result"
        },
        {
          "data": {
            "image/png": "[encoded data removed]",
            "text/plain": [
              "<Figure size 640x480 with 1 Axes>"
            ]
          },
          "metadata": {},
          "output_type": "display_data"
        }
      ],
      "source": [
        "# Plot the test data set and the predicted data set on the same graph\n",
        "plt.scatter(X_test[:,1], y_test, color=\"blue\", s=50, label=\"Test Data\")\n",
        "plt.scatter(X_test[:,1], y_pred, color='red', marker='^', s=50, label=\"Predicted Data\")\n",
        "plt.legend()\n",
        "plt.xlabel(\"x\")\n",
        "plt.ylabel(\"y\")"
      ]
    },
    {
      "cell_type": "markdown",
      "metadata": {
        "id": "1_UwMS6BajXk"
      },
      "source": [
        "**PROBLEM 7:** Does this new model seem to be a better fit for the data set?  Explain your answer using a combination of the error scores and the graph."
      ]
    },
    {
      "attachments": {},
      "cell_type": "markdown",
      "metadata": {
        "id": "LFypxxFQajh5"
      },
      "source": [
        "This new model seems to be a much better fit for the data set. The error scores are much lower, and the graph shows that the model fits the data set much better."
      ]
    },
    {
      "cell_type": "markdown",
      "metadata": {
        "id": "ahO13kMmbHHg"
      },
      "source": [
        "### Evaluating the Model Weights\n",
        "\n",
        "Another method of evaluating the performance of our model is to look at the weights, $\\theta$, that were calculated when the model was trained.  We can get this easily using the name of our linear regression algorith, `LiR`, and the attribute `coef_`."
      ]
    },
    {
      "cell_type": "code",
      "execution_count": 33,
      "metadata": {
        "colab": {
          "base_uri": "https://localhost:8080/"
        },
        "id": "UlsxVB-NpmZR",
        "outputId": "301767ab-f306-4d67-abd7-f8b6729e9f0d"
      },
      "outputs": [
        {
          "data": {
            "text/plain": [
              "array([ 3.02018337,  4.13173939, -6.67755765])"
            ]
          },
          "execution_count": 33,
          "metadata": {},
          "output_type": "execute_result"
        }
      ],
      "source": [
        "# Print the coefficients of the linear regression algorithms\n",
        "LiR.coef_"
      ]
    },
    {
      "cell_type": "markdown",
      "metadata": {
        "id": "ja9JgvPrUTW-"
      },
      "source": [
        "Since we created the data set in this notebook, we know that before we added the noise the data set had the form $y = 3x^2 + 4x -5$.  Therefore, assuming the noise added was not too great, the weights found by the linear regression algorithm should be $a \\approx 3$, $b \\approx 4$, and $c \\approx -5$.\n",
        "\n",
        "We can print the weights of the linear regression algorithm below, along with the actual values to see how they compare."
      ]
    },
    {
      "cell_type": "code",
      "execution_count": 34,
      "metadata": {
        "colab": {
          "base_uri": "https://localhost:8080/"
        },
        "id": "Zj8QTHOYqXTH",
        "outputId": "f1f7d28a-6b06-41ab-a932-cdd315750f42"
      },
      "outputs": [
        {
          "name": "stdout",
          "output_type": "stream",
          "text": [
            "Predicted Value of a: 3.0201833723778027   Actual Value of a: 3\n",
            "Predicted Value of b: 4.131739388909697   Actual Value of b: 4\n",
            "Predicted Value of c: -6.677557645439851   Actual Value of c: -5\n"
          ]
        }
      ],
      "source": [
        "print(\"Predicted Value of a:\", LiR.coef_[0],\"  Actual Value of a: 3\")\n",
        "print(\"Predicted Value of b:\", LiR.coef_[1],\"  Actual Value of b: 4\")\n",
        "print(\"Predicted Value of c:\", LiR.coef_[2],\"  Actual Value of c: -5\")"
      ]
    },
    {
      "cell_type": "markdown",
      "metadata": {
        "id": "rdZ5gQyxU_U2"
      },
      "source": [
        "**PROBLEM 8:** How do the predicted values of a, b, and c compare to the actual values?  Do you think this is a good measure of the accuracy of the model?"
      ]
    },
    {
      "attachments": {},
      "cell_type": "markdown",
      "metadata": {
        "id": "A9C79K3oU_Y_"
      },
      "source": [
        "They match pretty well. I think this is a good measure of the accuracy of the model, although it is only applicable when the weights are known."
      ]
    },
    {
      "cell_type": "markdown",
      "metadata": {
        "id": "_gBgPg3hPK9v"
      },
      "source": [
        "**PROBLEM 9:** Rerun the above code cells (From the heading *Applying the Machine Learning Workflow to Linear Regression*) with various levels of noise. (Hint: you only need to change one number)  How does the level of noise effect the accuracy of the model?  Is it possible to have no error from the linear regression algorithm?  Type your observations in the text cell below."
      ]
    },
    {
      "attachments": {},
      "cell_type": "markdown",
      "metadata": {
        "id": "1lgje0R7Pq6g"
      },
      "source": [
        "It is not possible to have no error from the linear regression algorithm. The higher the noise, the higher the error. The lower the noise, the lower the error. However, it requires exactly no noise to have no error."
      ]
    },
    {
      "cell_type": "markdown",
      "metadata": {
        "id": "cOpgNaxUPCxP"
      },
      "source": [
        "### Practice What You Have Learned\n",
        "\n",
        "a. In the code cell below, import the file `practice_what_you_have_learned_1.csv` as a Pandas dataframe.  Print the first few lines of the dataframe and the keys.  Hint: see [this page](https://pandas.pydata.org/docs/reference/api/pandas.DataFrame.html) for documentation on Pandas dataframes. "
      ]
    },
    {
      "cell_type": "code",
      "execution_count": 36,
      "metadata": {
        "id": "yYc0C55mPCHc"
      },
      "outputs": [
        {
          "data": {
            "text/html": [
              "<div>\n",
              "<style scoped>\n",
              "    .dataframe tbody tr th:only-of-type {\n",
              "        vertical-align: middle;\n",
              "    }\n",
              "\n",
              "    .dataframe tbody tr th {\n",
              "        vertical-align: top;\n",
              "    }\n",
              "\n",
              "    .dataframe thead th {\n",
              "        text-align: right;\n",
              "    }\n",
              "</style>\n",
              "<table border=\"1\" class=\"dataframe\">\n",
              "  <thead>\n",
              "    <tr style=\"text-align: right;\">\n",
              "      <th></th>\n",
              "      <th>x</th>\n",
              "      <th>y</th>\n",
              "    </tr>\n",
              "  </thead>\n",
              "  <tbody>\n",
              "    <tr>\n",
              "      <th>0</th>\n",
              "      <td>-10.0</td>\n",
              "      <td>-6355.000</td>\n",
              "    </tr>\n",
              "    <tr>\n",
              "      <th>1</th>\n",
              "      <td>-9.9</td>\n",
              "      <td>-6222.353</td>\n",
              "    </tr>\n",
              "    <tr>\n",
              "      <th>2</th>\n",
              "      <td>-9.8</td>\n",
              "      <td>-5700.784</td>\n",
              "    </tr>\n",
              "    <tr>\n",
              "      <th>3</th>\n",
              "      <td>-9.7</td>\n",
              "      <td>-5807.251</td>\n",
              "    </tr>\n",
              "    <tr>\n",
              "      <th>4</th>\n",
              "      <td>-9.6</td>\n",
              "      <td>-5542.712</td>\n",
              "    </tr>\n",
              "    <tr>\n",
              "      <th>...</th>\n",
              "      <td>...</td>\n",
              "      <td>...</td>\n",
              "    </tr>\n",
              "    <tr>\n",
              "      <th>195</th>\n",
              "      <td>9.5</td>\n",
              "      <td>6095.125</td>\n",
              "    </tr>\n",
              "    <tr>\n",
              "      <th>196</th>\n",
              "      <td>9.6</td>\n",
              "      <td>6396.992</td>\n",
              "    </tr>\n",
              "    <tr>\n",
              "      <th>197</th>\n",
              "      <td>9.7</td>\n",
              "      <td>6298.971</td>\n",
              "    </tr>\n",
              "    <tr>\n",
              "      <th>198</th>\n",
              "      <td>9.8</td>\n",
              "      <td>7018.104</td>\n",
              "    </tr>\n",
              "    <tr>\n",
              "      <th>199</th>\n",
              "      <td>9.9</td>\n",
              "      <td>6658.433</td>\n",
              "    </tr>\n",
              "  </tbody>\n",
              "</table>\n",
              "<p>200 rows × 2 columns</p>\n",
              "</div>"
            ],
            "text/plain": [
              "        x         y\n",
              "0   -10.0 -6355.000\n",
              "1    -9.9 -6222.353\n",
              "2    -9.8 -5700.784\n",
              "3    -9.7 -5807.251\n",
              "4    -9.6 -5542.712\n",
              "..    ...       ...\n",
              "195   9.5  6095.125\n",
              "196   9.6  6396.992\n",
              "197   9.7  6298.971\n",
              "198   9.8  7018.104\n",
              "199   9.9  6658.433\n",
              "\n",
              "[200 rows x 2 columns]"
            ]
          },
          "execution_count": 36,
          "metadata": {},
          "output_type": "execute_result"
        }
      ],
      "source": [
        "practice_df = pd.read_csv(\"practice_what_you_have_learned_1.csv\",header=0)\n",
        "practice_df"
      ]
    },
    {
      "cell_type": "markdown",
      "metadata": {
        "id": "XYKd8yGLWXN0"
      },
      "source": [
        "b. Export the columns of the dataframe as NumPy arrays, using descriptive variable names based on the names of the columns."
      ]
    },
    {
      "cell_type": "code",
      "execution_count": 42,
      "metadata": {
        "id": "nYYF4FJaWXcH"
      },
      "outputs": [],
      "source": [
        "practice_x = np.array(practice_df['x'])\n",
        "practice_y = np.array(practice_df['y'])"
      ]
    },
    {
      "cell_type": "code",
      "execution_count": 43,
      "metadata": {},
      "outputs": [
        {
          "data": {
            "text/plain": [
              "array([-1.00000000e+01, -9.90000000e+00, -9.80000000e+00, -9.70000000e+00,\n",
              "       -9.60000000e+00, -9.50000000e+00, -9.40000000e+00, -9.30000000e+00,\n",
              "       -9.20000000e+00, -9.10000000e+00, -9.00000000e+00, -8.90000000e+00,\n",
              "       -8.80000000e+00, -8.70000000e+00, -8.60000000e+00, -8.50000000e+00,\n",
              "       -8.40000000e+00, -8.30000000e+00, -8.20000000e+00, -8.10000000e+00,\n",
              "       -8.00000000e+00, -7.90000000e+00, -7.80000000e+00, -7.70000000e+00,\n",
              "       -7.60000000e+00, -7.50000000e+00, -7.40000000e+00, -7.30000000e+00,\n",
              "       -7.20000000e+00, -7.10000000e+00, -7.00000000e+00, -6.90000000e+00,\n",
              "       -6.80000000e+00, -6.70000000e+00, -6.60000000e+00, -6.50000000e+00,\n",
              "       -6.40000000e+00, -6.30000000e+00, -6.20000000e+00, -6.10000000e+00,\n",
              "       -6.00000000e+00, -5.90000000e+00, -5.80000000e+00, -5.70000000e+00,\n",
              "       -5.60000000e+00, -5.50000000e+00, -5.40000000e+00, -5.30000000e+00,\n",
              "       -5.20000000e+00, -5.10000000e+00, -5.00000000e+00, -4.90000000e+00,\n",
              "       -4.80000000e+00, -4.70000000e+00, -4.60000000e+00, -4.50000000e+00,\n",
              "       -4.40000000e+00, -4.30000000e+00, -4.20000000e+00, -4.10000000e+00,\n",
              "       -4.00000000e+00, -3.90000000e+00, -3.80000000e+00, -3.70000000e+00,\n",
              "       -3.60000000e+00, -3.50000000e+00, -3.40000000e+00, -3.30000000e+00,\n",
              "       -3.20000000e+00, -3.10000000e+00, -3.00000000e+00, -2.90000000e+00,\n",
              "       -2.80000000e+00, -2.70000000e+00, -2.60000000e+00, -2.50000000e+00,\n",
              "       -2.40000000e+00, -2.30000000e+00, -2.20000000e+00, -2.10000000e+00,\n",
              "       -2.00000000e+00, -1.90000000e+00, -1.80000000e+00, -1.70000000e+00,\n",
              "       -1.60000000e+00, -1.50000000e+00, -1.40000000e+00, -1.30000000e+00,\n",
              "       -1.20000000e+00, -1.10000000e+00, -1.00000000e+00, -9.00000000e-01,\n",
              "       -8.00000000e-01, -7.00000000e-01, -6.00000000e-01, -5.00000000e-01,\n",
              "       -4.00000000e-01, -3.00000000e-01, -2.00000000e-01, -1.00000000e-01,\n",
              "       -3.55271368e-14,  1.00000000e-01,  2.00000000e-01,  3.00000000e-01,\n",
              "        4.00000000e-01,  5.00000000e-01,  6.00000000e-01,  7.00000000e-01,\n",
              "        8.00000000e-01,  9.00000000e-01,  1.00000000e+00,  1.10000000e+00,\n",
              "        1.20000000e+00,  1.30000000e+00,  1.40000000e+00,  1.50000000e+00,\n",
              "        1.60000000e+00,  1.70000000e+00,  1.80000000e+00,  1.90000000e+00,\n",
              "        2.00000000e+00,  2.10000000e+00,  2.20000000e+00,  2.30000000e+00,\n",
              "        2.40000000e+00,  2.50000000e+00,  2.60000000e+00,  2.70000000e+00,\n",
              "        2.80000000e+00,  2.90000000e+00,  3.00000000e+00,  3.10000000e+00,\n",
              "        3.20000000e+00,  3.30000000e+00,  3.40000000e+00,  3.50000000e+00,\n",
              "        3.60000000e+00,  3.70000000e+00,  3.80000000e+00,  3.90000000e+00,\n",
              "        4.00000000e+00,  4.10000000e+00,  4.20000000e+00,  4.30000000e+00,\n",
              "        4.40000000e+00,  4.50000000e+00,  4.60000000e+00,  4.70000000e+00,\n",
              "        4.80000000e+00,  4.90000000e+00,  5.00000000e+00,  5.10000000e+00,\n",
              "        5.20000000e+00,  5.30000000e+00,  5.40000000e+00,  5.50000000e+00,\n",
              "        5.60000000e+00,  5.70000000e+00,  5.80000000e+00,  5.90000000e+00,\n",
              "        6.00000000e+00,  6.10000000e+00,  6.20000000e+00,  6.30000000e+00,\n",
              "        6.40000000e+00,  6.50000000e+00,  6.60000000e+00,  6.70000000e+00,\n",
              "        6.80000000e+00,  6.90000000e+00,  7.00000000e+00,  7.10000000e+00,\n",
              "        7.20000000e+00,  7.30000000e+00,  7.40000000e+00,  7.50000000e+00,\n",
              "        7.60000000e+00,  7.70000000e+00,  7.80000000e+00,  7.90000000e+00,\n",
              "        8.00000000e+00,  8.10000000e+00,  8.20000000e+00,  8.30000000e+00,\n",
              "        8.40000000e+00,  8.50000000e+00,  8.60000000e+00,  8.70000000e+00,\n",
              "        8.80000000e+00,  8.90000000e+00,  9.00000000e+00,  9.10000000e+00,\n",
              "        9.20000000e+00,  9.30000000e+00,  9.40000000e+00,  9.50000000e+00,\n",
              "        9.60000000e+00,  9.70000000e+00,  9.80000000e+00,  9.90000000e+00])"
            ]
          },
          "execution_count": 43,
          "metadata": {},
          "output_type": "execute_result"
        }
      ],
      "source": [
        "practice_x"
      ]
    },
    {
      "cell_type": "code",
      "execution_count": 44,
      "metadata": {},
      "outputs": [
        {
          "data": {
            "text/plain": [
              "array([-6.355000e+03, -6.222353e+03, -5.700784e+03, -5.807251e+03,\n",
              "       -5.542712e+03, -5.206125e+03, -5.692448e+03, -5.265639e+03,\n",
              "       -5.021656e+03, -4.466457e+03, -4.969000e+03, -4.727243e+03,\n",
              "       -4.055144e+03, -4.601661e+03, -3.734752e+03, -4.383375e+03,\n",
              "       -4.132488e+03, -3.363049e+03, -3.293016e+03, -3.343347e+03,\n",
              "       -3.427000e+03, -3.639933e+03, -3.290104e+03, -3.396471e+03,\n",
              "       -3.318992e+03, -2.678625e+03, -2.205328e+03, -2.518059e+03,\n",
              "       -2.359776e+03, -2.496437e+03, -2.030000e+03, -1.691423e+03,\n",
              "       -2.170664e+03, -1.787681e+03, -1.815432e+03, -1.520875e+03,\n",
              "       -2.133968e+03, -2.009669e+03, -1.675936e+03, -1.377727e+03,\n",
              "       -1.834000e+03, -1.503713e+03, -1.289824e+03, -1.538291e+03,\n",
              "       -6.200720e+02, -1.360125e+03, -1.108408e+03, -1.144879e+03,\n",
              "       -9.454960e+02, -1.022217e+03, -1.059000e+03, -1.212803e+03,\n",
              "       -9.425840e+02, -5.723010e+02, -8.949120e+02, -3.853750e+02,\n",
              "       -6.126480e+02, -3.776890e+02, -4.024560e+02, -7.069070e+02,\n",
              "       -2.260000e+02, -1.586930e+02, -6.519440e+02, -5.357110e+02,\n",
              "        4.804800e+01, -1.646250e+02,  2.723120e+02, -3.030990e+02,\n",
              "       -2.368160e+02,  3.262030e+02, -1.850000e+02, -3.443830e+02,\n",
              "        1.180960e+02,  3.254790e+02, -2.801920e+02, -3.487500e+01,\n",
              "       -9.652800e+01, -5.361090e+02, -2.145760e+02,  3.511300e+01,\n",
              "       -1.890000e+02,  2.812700e+01, -2.684640e+02, -1.007310e+02,\n",
              "        5.368000e+00, -2.701250e+02,  2.358320e+02, -1.557190e+02,\n",
              "       -2.867360e+02,  4.328230e+02, -3.380000e+02,  2.983700e+01,\n",
              "       -3.426240e+02, -4.353410e+02, -2.322720e+02, -9.937500e+01,\n",
              "       -4.416080e+02,  4.570710e+02, -4.522960e+02, -2.126670e+02,\n",
              "        1.690000e+02, -1.542530e+02,  1.536160e+02, -3.793510e+02,\n",
              "       -8.111200e+01,  4.003750e+02,  4.721520e+02,  4.372610e+02,\n",
              "       -2.842560e+02,  2.326430e+02, -7.300000e+01, -4.491430e+02,\n",
              "        4.662560e+02, -2.727610e+02, -9.115200e+01,  1.091250e+02,\n",
              "        4.621120e+02,  2.985100e+01, -3.216160e+02, -2.247000e+00,\n",
              "        4.330000e+02, -3.748330e+02,  5.752960e+02,  5.942900e+01,\n",
              "       -1.873920e+02,  3.898750e+02,  1.412720e+02, -2.515900e+01,\n",
              "        5.836240e+02, -5.133700e+01,  5.950000e+02,  6.596770e+02,\n",
              "       -1.862640e+02,  2.302190e+02,  4.571680e+02, -1.543750e+02,\n",
              "       -9.136800e+01,  6.222310e+02,  2.394640e+02,  6.037300e+01,\n",
              "        3.140000e+02,  3.873870e+02,  8.265760e+02,  9.036090e+02,\n",
              "        1.045528e+03,  6.023750e+02,  5.901920e+02,  1.190021e+03,\n",
              "        5.069040e+02,  7.618830e+02,  1.216000e+03,  1.409297e+03,\n",
              "        1.525816e+03,  1.319599e+03,  1.106688e+03,  1.713125e+03,\n",
              "        1.053952e+03,  1.200211e+03,  1.469944e+03,  1.449193e+03,\n",
              "        1.210000e+03,  2.159407e+03,  2.077456e+03,  1.731189e+03,\n",
              "        2.171648e+03,  1.960875e+03,  1.924912e+03,  2.663801e+03,\n",
              "        1.885584e+03,  2.000303e+03,  2.191000e+03,  2.392717e+03,\n",
              "        2.576496e+03,  3.315379e+03,  3.424408e+03,  3.117625e+03,\n",
              "        2.930072e+03,  3.663791e+03,  3.417824e+03,  3.378213e+03,\n",
              "        4.076000e+03,  4.249227e+03,  3.663936e+03,  3.827169e+03,\n",
              "        4.759968e+03,  4.952375e+03,  4.674432e+03,  4.411181e+03,\n",
              "        5.400664e+03,  4.994923e+03,  5.405000e+03,  5.893937e+03,\n",
              "        5.835776e+03,  5.622559e+03,  6.218328e+03,  6.095125e+03,\n",
              "        6.396992e+03,  6.298971e+03,  7.018104e+03,  6.658433e+03])"
            ]
          },
          "execution_count": 44,
          "metadata": {},
          "output_type": "execute_result"
        }
      ],
      "source": [
        "practice_y"
      ]
    },
    {
      "cell_type": "markdown",
      "metadata": {
        "id": "QWnZQPqkWlSk"
      },
      "source": [
        "c. Graph the data set (assuming the first column of the data set is the x-axis and the second column is the y-axis).  Add x and y labels to the axes based on the column names given in the data set."
      ]
    },
    {
      "cell_type": "code",
      "execution_count": 45,
      "metadata": {
        "id": "x7wspuXAWlbV"
      },
      "outputs": [
        {
          "data": {
            "image/png": "[encoded data removed]",
            "text/plain": [
              "<Figure size 640x480 with 1 Axes>"
            ]
          },
          "metadata": {},
          "output_type": "display_data"
        }
      ],
      "source": [
        "plt.scatter(practice_x, practice_y, color=\"blue\", s=50)\n",
        "plt.xlabel(\"x\")\n",
        "plt.ylabel(\"y\")\n",
        "plt.title(\"Practice Data Set\")\n",
        "plt.show()"
      ]
    },
    {
      "cell_type": "markdown",
      "metadata": {
        "id": "7WDc1AKRWz7R"
      },
      "source": [
        "d. Based on the graph of the data, what equation could be a good model for the data?  Write your answer in the cell below.  Hint: the answer will be a polynomial."
      ]
    },
    {
      "attachments": {},
      "cell_type": "markdown",
      "metadata": {
        "id": "3XqSv4HtWz-q"
      },
      "source": [
        "This appears to be either a cubic or a quintic polynomial. Ocham's Razor suggests that the cubic polynomial is the better model."
      ]
    },
    {
      "cell_type": "markdown",
      "metadata": {
        "id": "E7cotyuEW_Hv"
      },
      "source": [
        "e. Create a design matrix using your answer to part d."
      ]
    },
    {
      "cell_type": "code",
      "execution_count": 47,
      "metadata": {
        "id": "yMNjv6E8W_NV"
      },
      "outputs": [],
      "source": [
        "practice_design = np.array([practice_x**3, practice_x**2, practice_x, np.ones(len(practice_x))]).T"
      ]
    },
    {
      "cell_type": "markdown",
      "metadata": {
        "id": "6fGZlRXMXH9P"
      },
      "source": [
        "f. Create a training data set and a test data set using the Scikit-Learn function.  Set aside 25% of the data set for the test data set."
      ]
    },
    {
      "cell_type": "code",
      "execution_count": 48,
      "metadata": {
        "id": "E0LtoXJPXIDY"
      },
      "outputs": [
        {
          "data": {
            "image/png": "[encoded data removed]",
            "text/plain": [
              "<Figure size 640x480 with 1 Axes>"
            ]
          },
          "metadata": {},
          "output_type": "display_data"
        }
      ],
      "source": [
        "training_x, test_x, training_y, test_y = train_test_split(practice_design, practice_y, test_size=0.2)\n",
        "plt.scatter(training_x[:,2], training_y, color=\"blue\", s=50, label=\"Training Data\")\n",
        "plt.scatter(test_x[:,2], test_y, color=\"red\", marker=\"^\", s=50, label=\"Test Data\")\n",
        "plt.legend()\n",
        "plt.xlabel(\"x\")\n",
        "plt.ylabel(\"y\")\n",
        "plt.title(\"Practice Data Set\")\n",
        "plt.show()"
      ]
    },
    {
      "cell_type": "markdown",
      "metadata": {
        "id": "k87Q98oOXSk9"
      },
      "source": [
        "g. Create a linear regression model, fit it using the training data, and then create a variable `y_pred` which holds the predictions for the test data set."
      ]
    },
    {
      "cell_type": "code",
      "execution_count": 49,
      "metadata": {
        "id": "b-TXARLTXSuk"
      },
      "outputs": [],
      "source": [
        "practice_LiR = LinearRegression(fit_intercept=False)\n",
        "practice_LiR.fit(training_x, training_y)\n",
        "\n",
        "practice_y_pred = practice_LiR.predict(test_x)"
      ]
    },
    {
      "cell_type": "markdown",
      "metadata": {
        "id": "0R74DmxkXgOx"
      },
      "source": [
        "h. Using any combination of graphs and errors, determine the accuracy of your model using the test data set."
      ]
    },
    {
      "cell_type": "code",
      "execution_count": 52,
      "metadata": {
        "id": "ORJ8DRzOXgXZ"
      },
      "outputs": [
        {
          "data": {
            "image/png": "[encoded data removed]",
            "text/plain": [
              "<Figure size 640x480 with 1 Axes>"
            ]
          },
          "metadata": {},
          "output_type": "display_data"
        },
        {
          "name": "stdout",
          "output_type": "stream",
          "text": [
            "The MSE between the test data set and the predicted data set is: 90569.17086789888\n",
            "The RMSE between the test data set and the predicted data set is: 300.94712304306694\n",
            "The average value of the y data set is: 67.98499999997468\n"
          ]
        }
      ],
      "source": [
        "plt.scatter(test_x[:,2], test_y, color=\"blue\", s=50, label=\"Test Data\")\n",
        "plt.scatter(test_x[:,2], practice_y_pred, color=\"red\", marker=\"^\", s=50, label=\"Predicted Data\")\n",
        "plt.legend()\n",
        "plt.xlabel(\"x\")\n",
        "plt.ylabel(\"y\")\n",
        "plt.title(\"Practice Data Set\")\n",
        "plt.show()\n",
        "\n",
        "print(\"The MSE between the test data set and the predicted data set is:\",\\\n",
        "        mse(practice_y_pred, test_y))\n",
        "\n",
        "print(\"The RMSE between the test data set and the predicted data set is:\",\\\n",
        "        np.sqrt(mse(practice_y_pred, test_y)))\n",
        "\n",
        "print(\"The average value of the y data set is:\", np.average(practice_y))"
      ]
    },
    {
      "cell_type": "markdown",
      "metadata": {
        "id": "PZeLxj30XouX"
      },
      "source": [
        "i. Do you think your machine learning model fits the data set well?  If it does not, what improvements do you think you can make to increase it performance?"
      ]
    },
    {
      "attachments": {},
      "cell_type": "markdown",
      "metadata": {
        "id": "VNotjjaSXoyE"
      },
      "source": [
        "It seems to fit the data set well. I think it could be further improved by adding more data points to ensure that the model should in fact be a cubic polynomial, and not a quintic polynomial."
      ]
    },
    {
      "cell_type": "markdown",
      "metadata": {
        "id": "2pbSEadWO9vd"
      },
      "source": [
        "## Bonus Problem: Creating a Linear Regression Algorithm from Scratch\n",
        "\n",
        "Using the equation for the optimized parameters of $\\theta$, presented earlier in this notebook, create a function which performs linear regression on a given training data set and returns a prediction for a test set.  Combine your code into a function called `linear_regression`, which takes three parameters `X_train`, `y_train`, and `X_test`, and returns the predicted y data set, `y_pred`.  Use the outline of the function given below.  Compare its performance using the \"Practice What You Have Learned\" data set and compare your function's performance to the \n",
        "\n",
        "\n",
        "```python\n",
        "def linear_regression (X_train, y_train, X_test):\n",
        "    # Your code goes here\n",
        "    return y_pred\n",
        "```"
      ]
    },
    {
      "cell_type": "code",
      "execution_count": null,
      "metadata": {
        "id": "rj_gbnizV6ZX"
      },
      "outputs": [],
      "source": []
    }
  ],
  "metadata": {
    "colab": {
      "collapsed_sections": [
        "g2dg0sQOUSTn",
        "7wHOGIMiYe9m",
        "ahO13kMmbHHg",
        "cOpgNaxUPCxP"
      ],
      "provenance": []
    },
    "kernelspec": {
      "display_name": "Python 3",
      "name": "python3"
    },
    "language_info": {
      "codemirror_mode": {
        "name": "ipython",
        "version": 3
      },
      "file_extension": ".py",
      "mimetype": "text/x-python",
      "name": "python",
      "nbconvert_exporter": "python",
      "pygments_lexer": "ipython3",
      "version": "3.10.10"
    }
  },
  "nbformat": 4,
  "nbformat_minor": 0
}
